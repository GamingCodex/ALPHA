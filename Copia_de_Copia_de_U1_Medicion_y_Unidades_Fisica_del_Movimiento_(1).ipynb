{
  "nbformat": 4,
  "nbformat_minor": 5,
  "metadata": {
    "colab": {
      "provenance": [],
      "include_colab_link": true
    },
    "kernelspec": {
      "name": "python3",
      "display_name": "Python 3"
    }
  },
  "cells": [
    {
      "cell_type": "markdown",
      "metadata": {
        "id": "view-in-github",
        "colab_type": "text"
      },
      "source": [
        "<a href=\"https://colab.research.google.com/github/GamingCodex/ALPHA/blob/main/Copia_de_Copia_de_U1_Medicion_y_Unidades_Fisica_del_Movimiento_(1).ipynb\" target=\"_parent\"><img src=\"https://colab.research.google.com/assets/colab-badge.svg\" alt=\"Open In Colab\"/></a>"
      ]
    },
    {
      "cell_type": "markdown",
      "metadata": {
        "id": "ggnNgDWnwBrD"
      },
      "source": [
        "### Ejercicio 11 — Densidad del hierro\n",
        "Dada \\(\\rho = 7874\\,kg/m^3\\). Expresá en **g/cm³**, **g/dm³** y **kg/L**."
      ],
      "id": "ggnNgDWnwBrD"
    },
    {
      "cell_type": "markdown",
      "metadata": {
        "id": "Aq0ws_v5wCoi"
      },
      "source": [
        "### Ejercicio 11 — Densidad del hierro\n",
        "Dada \\(\\rho = 7874\\,kg/m^3\\). Expresá en **g/cm³**, **g/dm³** y **kg/L**."
      ],
      "id": "Aq0ws_v5wCoi"
    },
    {
      "cell_type": "markdown",
      "metadata": {
        "id": "oJCzyrD6AHT-"
      },
      "source": [
        "# Física del Movimiento — Unidad 1\n",
        "## **Medición y sistemas de unidades**\n",
        "###*Cuaderno de trabajo en Google Colab*\n",
        "\n",
        "- Datos de la asignatura:\n",
        "  - **Docente:** Santiago Luna  \n",
        "  - **Carrera:** Tecnicatura en Desarrollo de Videojuegos  \n",
        "  - **Modalidad:** Asincrónica (2 h) — se entrega el link de este cuaderno resuelto.\n",
        "\n",
        "- Datos del/la estudiante:\n",
        "  - **Nombre y apellido**: Martina lujan flores yuponi\n",
        "  - **Número de DNI**: 46912302\n",
        "\n",
        "---\n",
        "### Objetivos de aprendizaje\n",
        "- Representar **magnitudes físicas con sus unidades** en Python.\n",
        "- Realizar **conversiones entre unidades** de longitud, área, volumen, masa, densidad y tiempo.\n",
        "- Aplicar buenas prácticas: **variables, funciones, validación y documentación**.\n",
        "- Relacionar el manejo de unidades con **escalas** y **mecánicas** en videojuegos.\n",
        "\n",
        "> **Nota sobre notación**: en Python el separador decimal es el **punto** (`3.14`), no la coma.\n",
        "\n",
        "> **¡Atención!**: Si te trabás en algún ejercicio o si no te da el mismo resultado, **igual explicá tu razonamiento en el espacio donde va el código, no dejes la celda incompleta**. **Lo que vale es el intento**.\n",
        "\n",
        "---\n",
        "### Cómo entregar\n",
        "1. Ve a `Archivo → Guardar una copia en Drive` (poné tu **apellido_nombre** en el título).\n",
        "2. Completá los ejercicios **en las celdas indicadas**.\n",
        "3. Compartí el cuaderno con permiso de lectura y enviá el **link** por la plataforma.\n",
        "\n",
        "---\n",
        "**Instrucciones generales**\n",
        "- No borres el código de configuración ni los *checks*.\n",
        "- Podés ejecutar las celdas todas las veces que necesites.\n",
        "- Si un *check* falla, **leé el mensaje** y corregí. ¡Es parte del aprendizaje!"
      ],
      "id": "oJCzyrD6AHT-"
    },
    {
      "cell_type": "markdown",
      "metadata": {
        "id": "ezMcWrjmAHUK"
      },
      "source": [
        "---\n",
        "## 0) Preparación del entorno\n",
        "Vamos a trabajar con la librería **pint** para manejar unidades (magnitudes, conversiones y consistencia dimensional).\n",
        "Si no se instala automáticamente, ejecutá la celda de instalación."
      ],
      "id": "ezMcWrjmAHUK"
    },
    {
      "cell_type": "code",
      "metadata": {
        "id": "2PpG3qPzAHUM",
        "colab": {
          "base_uri": "https://localhost:8080/"
        },
        "outputId": "197465b5-7c7a-4ef6-b03b-3bc58b50bc68"
      },
      "execution_count": null,
      "outputs": [
        {
          "output_type": "stream",
          "name": "stdout",
          "text": [
            "pint versión: 0.25\n",
            "Unidad base de longitud: 1 meter\n"
          ]
        }
      ],
      "source": [
        "try:\n",
        "    import pint  #se instala la biblioteca pint\n",
        "except ImportError:\n",
        "    get_ipython().system('pip -q install pint > /dev/null')\n",
        "import pint\n",
        "from math import pi\n",
        "\n",
        "ureg = pint.UnitRegistry()\n",
        "Q_ = ureg.Quantity\n",
        "def fmt(q):             #se configura un formato.\n",
        "    try:\n",
        "        return f\"{q:.6g}\"\n",
        "    except Exception:\n",
        "        return str(q)\n",
        "\n",
        "print(\"pint versión:\", pint.__version__)\n",
        "print(\"Unidad base de longitud:\", 1*ureg.meter)\n"
      ],
      "id": "2PpG3qPzAHUM"
    },
    {
      "cell_type": "markdown",
      "metadata": {
        "id": "fyEbTZhQAHUP"
      },
      "source": [
        "### Funciones de apoyo (autocorrección suave)\n",
        "Las siguientes utilidades te ayudan a verificar tus resultados dentro de una **tolerancia razonable**. No cambies esta celda."
      ],
      "id": "fyEbTZhQAHUP"
    },
    {
      "cell_type": "code",
      "metadata": {
        "id": "c8UwkiecAHUR"
      },
      "execution_count": null,
      "outputs": [],
      "source": [
        "# Utilidades para chequeos\n",
        "import math\n",
        "\n",
        "def _to_expected_units(qty, expected):\n",
        "    if isinstance(expected, pint.Quantity):\n",
        "        return qty.to(expected.units)\n",
        "    return qty\n",
        "\n",
        "def check_quantity(name, student_qty, expected_qty, rtol=1e-9, atol=None):\n",
        "    # Compara magnitudes físicas con unidades usando tolerancias relativas/absolutas.\n",
        "    try:\n",
        "        s = _to_expected_units(student_qty, expected_qty)\n",
        "        e = expected_qty\n",
        "        if atol is None:\n",
        "            atol = abs(e.magnitude) * rtol + 1e-12\n",
        "        diff = abs(s.magnitude - e.to(s.units).magnitude)\n",
        "        assert diff <= max(atol, abs(e.magnitude)*rtol), (\n",
        "            f\"❌ {name}: esperado {fmt(e)} pero obtuviste {fmt(student_qty)}; \"\n",
        "            f\"diferencia {diff:g} > tolerancia\")\n",
        "        print(f\"✅ {name}: {fmt(student_qty)} ≈ {fmt(e)}\")\n",
        "    except Exception as ex:\n",
        "        raise AssertionError(str(ex))\n",
        "\n",
        "# Atajos de unidades frecuentes\n",
        "m, cm, mm, dm, km = ureg.meter, ureg.centimeter, ureg.millimeter, ureg.decimeter, ureg.kilometer\n",
        "s, min_, h = ureg.second, ureg.minute, ureg.hour\n",
        "ha = ureg.hectare\n",
        "L = ureg.liter\n",
        "kg, g = ureg.kilogram, ureg.gram\n"
      ],
      "id": "c8UwkiecAHUR"
    },
    {
      "cell_type": "markdown",
      "metadata": {
        "id": "myTGKdcTAHUT"
      },
      "source": [
        "---\n",
        "## 1) Magnitudes, medición y sistema de unidades\n",
        "**Idea clave:** crear variables que **incluyan el valor y su unidad**, y luego convertir."
      ],
      "id": "myTGKdcTAHUT"
    },
    {
      "cell_type": "markdown",
      "metadata": {
        "id": "Am7gInUjAHUV"
      },
      "source": [
        "### Ejercicio 1 — Longitud\n",
        "Crear una variable `longitud = 3640 cm` y convertirla a **metros**."
      ],
      "id": "Am7gInUjAHUV"
    },
    {
      "cell_type": "code",
      "metadata": {
        "id": "qMDL1RN8AHUX",
        "colab": {
          "base_uri": "https://localhost:8080/"
        },
        "outputId": "29ebbfdf-38d7-4797-cb7f-853eea66a727"
      },
      "execution_count": null,
      "outputs": [
        {
          "output_type": "stream",
          "name": "stdout",
          "text": [
            "Resultado: 36.4 meter.\n"
          ]
        }
      ],
      "source": [
        "longitud = 3640*cm\n",
        "resultado_m = longitud * (1*m/(100*cm)) # convertir a metros\n",
        "print(f'Resultado: {resultado_m}.')\n"
      ],
      "id": "qMDL1RN8AHUX"
    },
    {
      "cell_type": "code",
      "metadata": {
        "id": "kVnsp2LiAHUY",
        "colab": {
          "base_uri": "https://localhost:8080/"
        },
        "outputId": "e06715ef-7cf3-423d-c544-cffd566da8df"
      },
      "execution_count": null,
      "outputs": [
        {
          "output_type": "stream",
          "name": "stdout",
          "text": [
            "✅ E1: 36.4 meter ≈ 36.4 meter\n"
          ]
        }
      ],
      "source": [
        "# Tests\n",
        "esperado = 36.4 * m\n",
        "check_quantity(\"E1\", resultado_m, esperado, rtol=1e-12)\n"
      ],
      "id": "kVnsp2LiAHUY"
    },
    {
      "cell_type": "markdown",
      "metadata": {
        "id": "oRlR2l0pAHUa"
      },
      "source": [
        "### Ejercicio 2 — Longitud\n",
        "Convertir **2.83 m** a **cm**."
      ],
      "id": "oRlR2l0pAHUa"
    },
    {
      "cell_type": "code",
      "metadata": {
        "id": "wdxuqo1mAHUb",
        "colab": {
          "base_uri": "https://localhost:8080/"
        },
        "outputId": "9e284240-2a3c-4335-ce9e-5d19fbd5c417"
      },
      "execution_count": null,
      "outputs": [
        {
          "output_type": "stream",
          "name": "stdout",
          "text": [
            "Resultado: 283.0 centimeter\n"
          ]
        }
      ],
      "source": [
        "from pint import UnitRegistry\n",
        "\n",
        "# Crear registro de unidades\n",
        "u = UnitRegistry()\n",
        "\n",
        "# Valor en metros\n",
        "valor_m = 2.83 * u.meter\n",
        "\n",
        "# Convertir a centímetros\n",
        "resultado_cm = valor_m.to(u.centimeter)\n",
        "\n",
        "print(f'Resultado: {resultado_cm}')\n"
      ],
      "id": "wdxuqo1mAHUb"
    },
    {
      "cell_type": "code",
      "metadata": {
        "id": "AfG5kDLhAHUb",
        "colab": {
          "base_uri": "https://localhost:8080/"
        },
        "outputId": "ba277097-3d0c-4f3b-93c5-dff020e9d488"
      },
      "execution_count": null,
      "outputs": [
        {
          "output_type": "stream",
          "name": "stdout",
          "text": [
            "✅ E2: 283 centimeter ≈ 283 centimeter\n"
          ]
        }
      ],
      "source": [
        "# Tests\n",
        "check_quantity(\"E2\", resultado_cm, 283 * cm, rtol=1e-12)\n"
      ],
      "id": "AfG5kDLhAHUb"
    },
    {
      "cell_type": "markdown",
      "metadata": {
        "id": "pGU91-CgAHUc"
      },
      "source": [
        "### Ejercicio 3 — Longitud compuesta\n",
        "Un cable mide **10 m, 8 dm, 2 cm y 5 mm**. Expresá su longitud en **m**, **dm** y **cm** (en forma decimal)."
      ],
      "id": "pGU91-CgAHUc"
    },
    {
      "cell_type": "code",
      "metadata": {
        "id": "e0fR-Ds1AHUd",
        "colab": {
          "base_uri": "https://localhost:8080/"
        },
        "outputId": "c0645953-9bfd-43d8-bc81-25192a3e22fb"
      },
      "execution_count": null,
      "outputs": [
        {
          "output_type": "stream",
          "name": "stdout",
          "text": [
            "Resultado en metros: 10.825000000000001 meter\n",
            "Resultado en decímetros: 108.25000000000001 decimeter\n",
            "Resultado en centímetros: 1082.5 centimeter\n"
          ]
        }
      ],
      "source": [
        "from pint import UnitRegistry\n",
        "u = UnitRegistry()\n",
        "\n",
        "# Longitud total en distintas unidades\n",
        "longitud = (10 * u.meter) + (8 * u.decimeter) + (2 * u.centimeter) + (5 * u.millimeter)\n",
        "\n",
        "# Usar los nombres que pide el test\n",
        "L_m = longitud.to(u.meter)\n",
        "L_dm = longitud.to(u.decimeter)\n",
        "L_cm = longitud.to(u.centimeter)\n",
        "\n",
        "print(f\"Resultado en metros: {L_m}\")\n",
        "print(f\"Resultado en decímetros: {L_dm}\")\n",
        "print(f\"Resultado en centímetros: {L_cm}\")\n"
      ],
      "id": "e0fR-Ds1AHUd"
    },
    {
      "cell_type": "code",
      "metadata": {
        "id": "RcSRcOKyAHUe",
        "colab": {
          "base_uri": "https://localhost:8080/"
        },
        "outputId": "6ddb98b0-a127-48d8-c18e-7e0b77f9f2a1"
      },
      "execution_count": null,
      "outputs": [
        {
          "output_type": "stream",
          "name": "stdout",
          "text": [
            "✅ E3-m: 10.825 meter ≈ 10.825 meter\n",
            "✅ E3-dm: 108.25 decimeter ≈ 108.25 decimeter\n",
            "✅ E3-cm: 1082.5 centimeter ≈ 1082.5 centimeter\n"
          ]
        }
      ],
      "source": [
        "check_quantity(\"E3-m\", L_m, 10.825 * m)\n",
        "check_quantity(\"E3-dm\", L_dm, 108.25 * dm)\n",
        "check_quantity(\"E3-cm\", L_cm, 1082.5 * cm)\n",
        "\n"
      ],
      "id": "RcSRcOKyAHUe"
    },
    {
      "cell_type": "markdown",
      "metadata": {
        "id": "qWqKn4UlAHUf"
      },
      "source": [
        "### Ejercicio 4 — Rapidez\n",
        "Convertir **36 km/h** a **m/s**."
      ],
      "id": "qWqKn4UlAHUf"
    },
    {
      "cell_type": "code",
      "metadata": {
        "id": "Dnh3lZydAHUg",
        "colab": {
          "base_uri": "https://localhost:8080/"
        },
        "outputId": "f954f6e7-21c2-4995-c714-8951ee7fe047"
      },
      "execution_count": null,
      "outputs": [
        {
          "output_type": "stream",
          "name": "stdout",
          "text": [
            "Resultado: 10.0 meter / second\n"
          ]
        }
      ],
      "source": [
        "from pint import UnitRegistry\n",
        "u = UnitRegistry()\n",
        "\n",
        "# se define la velocidad en km/h\n",
        "v1 = 36 * u.kilometer / u.hour\n",
        "\n",
        "# se realiza la conversion a m/s\n",
        "v1_ms = v1.to(u.meter / u.second)\n",
        "\n",
        "print(f\"Resultado: {v1_ms}\")\n"
      ],
      "id": "Dnh3lZydAHUg"
    },
    {
      "cell_type": "code",
      "metadata": {
        "id": "ofAIKCNEAHUg",
        "colab": {
          "base_uri": "https://localhost:8080/"
        },
        "outputId": "9a5310ec-4473-48d5-c9af-bb2016f5bac3"
      },
      "execution_count": null,
      "outputs": [
        {
          "output_type": "stream",
          "name": "stdout",
          "text": [
            "✅ E4: 10 meter / second ≈ 10 meter / second\n"
          ]
        }
      ],
      "source": [
        "# Test\n",
        "check_quantity(\"E4\", v1_ms, 10 * (m/s))\n"
      ],
      "id": "ofAIKCNEAHUg"
    },
    {
      "cell_type": "markdown",
      "metadata": {
        "id": "5fz99AkOAHUh"
      },
      "source": [
        "### Ejercicio 5 — Rapidez\n",
        "Un móvil recorre **1 km por minuto**. Expresá su rapidez en **km/h** y **m/s**."
      ],
      "id": "5fz99AkOAHUh"
    },
    {
      "cell_type": "code",
      "metadata": {
        "id": "YXlW3mRUAHUh"
      },
      "execution_count": null,
      "outputs": [],
      "source": [
        "v2 = 1 * km / min_\n",
        "v2_kmh = v2.to(km/h)   # 60 km/h\n",
        "v2_ms = v2.to(m/s)     # 16.666... m/s\n"
      ],
      "id": "YXlW3mRUAHUh"
    },
    {
      "cell_type": "code",
      "metadata": {
        "id": "xaLAhNSQAHUi",
        "colab": {
          "base_uri": "https://localhost:8080/"
        },
        "outputId": "4b5c7048-181a-4603-f935-edf3e0d3ce09"
      },
      "execution_count": null,
      "outputs": [
        {
          "output_type": "stream",
          "name": "stdout",
          "text": [
            "✅ E5-km/h: 60 kilometer / hour ≈ 60 kilometer / hour\n",
            "✅ E5-m/s: 16.6667 meter / second ≈ 16.6667 meter / second\n"
          ]
        }
      ],
      "source": [
        "# Tests\n",
        "check_quantity(\"E5-km/h\", v2_kmh, 60 * (km/h))\n",
        "check_quantity(\"E5-m/s\", v2_ms, (60 * (km/h)).to(m/s))\n"
      ],
      "id": "xaLAhNSQAHUi"
    },
    {
      "cell_type": "markdown",
      "metadata": {
        "id": "hp_9xsHYAHUi"
      },
      "source": [
        "### Ejercicio 6 — Rapidez y distancia\n",
        "Un automóvil se desplaza **6 km cada 3 min**.\n",
        "1) Calcular su **velocidad** en **m/s** y **km/h**.  \n",
        "2) ¿Qué **distancia** recorre en **2.5 h** a esa velocidad? (en km)"
      ],
      "id": "hp_9xsHYAHUi"
    },
    {
      "cell_type": "code",
      "metadata": {
        "id": "EgDSt5uKAHUj"
      },
      "execution_count": null,
      "outputs": [],
      "source": [
        "trayecto = 6 * km\n",
        "lapso = 3 * min_\n",
        "v3 = trayecto / lapso\n",
        "v3_ms = v3.to(m/s)        # ~33.333... m/s\n",
        "v3_kmh = v3.to(km/h)      # 120 km/h\n",
        "\n",
        "tiempo_viaje = 2.5 * h\n",
        "recorrido = v3.to(u.kilometer / u.hour) * tiempo_viaje  # resultado con unidades"
      ],
      "id": "EgDSt5uKAHUj"
    },
    {
      "cell_type": "code",
      "metadata": {
        "id": "HbE4x2l8AHUj",
        "colab": {
          "base_uri": "https://localhost:8080/"
        },
        "outputId": "1c7cda54-14fa-4d5b-9bdb-e1a6a638ff3b"
      },
      "execution_count": null,
      "outputs": [
        {
          "output_type": "stream",
          "name": "stdout",
          "text": [
            "✅ E6-m/s: 33.3333 meter / second ≈ 33.3333 meter / second\n",
            "✅ E6-km/h: 120 kilometer / hour ≈ 120 kilometer / hour\n",
            "✅ E6-dist: 300 kilometer ≈ 300 kilometer\n"
          ]
        }
      ],
      "source": [
        "# Tests\n",
        "check_quantity(\"E6-m/s\", v3_ms, 33.3333333333 * (m/s), rtol=1e-6)\n",
        "check_quantity(\"E6-km/h\", v3_kmh, 120 * (km/h))\n",
        "check_quantity(\"E6-dist\", recorrido.to(km), 300 * km)\n"
      ],
      "id": "HbE4x2l8AHUj"
    },
    {
      "cell_type": "markdown",
      "metadata": {
        "id": "WhTmwzEyAHUk"
      },
      "source": [
        "### Ejercicio 7 — Área en hectáreas\n",
        "Rectángulo de **643.61 m** × **352.03 m**. Calcular el área en **hectáreas (ha)**."
      ],
      "id": "WhTmwzEyAHUk"
    },
    {
      "cell_type": "code",
      "metadata": {
        "id": "0LGZv9iEAHUk"
      },
      "execution_count": null,
      "outputs": [],
      "source": [
        "b = 643.61 * m\n",
        "h_rect = 352.03 * m\n",
        "A = b * h_rect\n",
        "A_ha = A.to(u.hectare)"
      ],
      "id": "0LGZv9iEAHUk"
    },
    {
      "cell_type": "code",
      "metadata": {
        "id": "k-2qbSsyAHUl",
        "colab": {
          "base_uri": "https://localhost:8080/"
        },
        "outputId": "a83dea79-92ab-4ad0-b33d-0871cb6f554c"
      },
      "execution_count": null,
      "outputs": [
        {
          "output_type": "stream",
          "name": "stdout",
          "text": [
            "✅ E7: 22.657 hectare ≈ 22.66 hectare\n"
          ]
        }
      ],
      "source": [
        "# Test\n",
        "check_quantity(\"E7\", A_ha, 22.66 * ha, rtol=1e-2)  # tolerancia 1%\n"
      ],
      "id": "k-2qbSsyAHUl"
    },
    {
      "cell_type": "markdown",
      "metadata": {
        "id": "wv8p4ZFyAHUl"
      },
      "source": [
        "### Ejercicio 8 — Volumen de un cilindro (en litros)\n",
        "Cilindro de base circular con **r = 48.2 cm** y **h = 43 cm**.\n",
        "Recordá: \\(V = \\pi r^2 h\\) y \\(1\\,L = 1\\,dm^3\\)."
      ],
      "id": "wv8p4ZFyAHUl"
    },
    {
      "cell_type": "code",
      "metadata": {
        "id": "-E7G6zgBAHUl"
      },
      "execution_count": null,
      "outputs": [],
      "source": [
        "import math\n",
        "r = 48.2 * cm\n",
        "h_cil = 43 * cm\n",
        "V = math.pi * (r**2) * h_cil\n",
        "V_L = V.to(L)"
      ],
      "id": "-E7G6zgBAHUl"
    },
    {
      "cell_type": "code",
      "metadata": {
        "id": "Lq083pRbAHUm",
        "colab": {
          "base_uri": "https://localhost:8080/"
        },
        "outputId": "141d24f7-8b51-4b06-9179-1cdb10f3d9d4"
      },
      "execution_count": null,
      "outputs": [
        {
          "output_type": "stream",
          "name": "stdout",
          "text": [
            "✅ E8: 313.843 liter ≈ 313.68 liter\n"
          ]
        }
      ],
      "source": [
        "# Test\n",
        "check_quantity(\"E8\", V_L, 313.68 * L, rtol=2e-3)  # ~0.2%\n"
      ],
      "id": "Lq083pRbAHUm"
    },
    {
      "cell_type": "markdown",
      "metadata": {
        "id": "cob6Hlb0AHUn"
      },
      "source": [
        "#### Ejercicio 9 — Masa\n",
        "Convertir **453 g** a **kg**."
      ],
      "id": "cob6Hlb0AHUn"
    },
    {
      "cell_type": "code",
      "metadata": {
        "id": "CxKsWSU8AHUn"
      },
      "execution_count": null,
      "outputs": [],
      "source": [
        "m_g = 453 * g\n",
        "m_kg = m_g.to(kg)"
      ],
      "id": "CxKsWSU8AHUn"
    },
    {
      "cell_type": "code",
      "metadata": {
        "id": "EE8oH1ELAHUo",
        "colab": {
          "base_uri": "https://localhost:8080/"
        },
        "outputId": "61b7ae0d-52a8-45d7-95c9-3c1d3a7de637"
      },
      "execution_count": null,
      "outputs": [
        {
          "output_type": "stream",
          "name": "stdout",
          "text": [
            "✅ E9: 0.453 kilogram ≈ 0.453 kilogram\n"
          ]
        }
      ],
      "source": [
        "# Test\n",
        "check_quantity(\"E9\", m_kg, 0.453 * kg)\n"
      ],
      "id": "EE8oH1ELAHUo"
    },
    {
      "cell_type": "markdown",
      "metadata": {
        "id": "C10e0rPqAHUo"
      },
      "source": [
        "### Ejercicio 10 — Densidad del agua\n",
        "Tomá \\(\\rho = 1\\,g/cm^3\\). Expresala en **kg/m³**, **g/dm³** y **kg/L**."
      ],
      "id": "C10e0rPqAHUo"
    },
    {
      "cell_type": "code",
      "metadata": {
        "id": "dH4WXQrnAHUo"
      },
      "execution_count": null,
      "outputs": [],
      "source": [
        "rho = 1 * g / (cm**3)\n",
        "rho_kg_m3 = rho.to(kg / (m**3))\n",
        "rho_g_dm3 = rho.to(g / (dm**3))\n",
        "rho_kg_L = rho.to(kg / L)"
      ],
      "id": "dH4WXQrnAHUo"
    },
    {
      "cell_type": "code",
      "metadata": {
        "id": "brp_OLLfAHUp",
        "colab": {
          "base_uri": "https://localhost:8080/"
        },
        "outputId": "4771bc76-3137-4767-af94-df58da1e9b23"
      },
      "execution_count": null,
      "outputs": [
        {
          "output_type": "stream",
          "name": "stdout",
          "text": [
            "✅ E10-a: 1000 kilogram / meter ** 3 ≈ 1000 kilogram / meter ** 3\n",
            "✅ E10-b: 1000 gram / decimeter ** 3 ≈ 1000 gram / decimeter ** 3\n",
            "✅ E10-c: 1 kilogram / liter ≈ 1 kilogram / liter\n"
          ]
        }
      ],
      "source": [
        "# Tests\n",
        "check_quantity(\"E10-a\", rho_kg_m3, 1000 * (kg/(m**3)))\n",
        "check_quantity(\"E10-b\", rho_g_dm3, 1000 * (g/(ureg.decimeter**3)))\n",
        "check_quantity(\"E10-c\", rho_kg_L, 1 * (kg/L))\n"
      ],
      "id": "brp_OLLfAHUp"
    },
    {
      "cell_type": "markdown",
      "metadata": {
        "id": "o6eLnYnbAHUx"
      },
      "source": [
        "### Ejercicio 11 — Densidad del hierro\n",
        "Dada \\(\\rho = 7874\\,kg/m^3\\). Expresá en **g/cm³**, **g/dm³** y **kg/L**."
      ],
      "id": "o6eLnYnbAHUx"
    },
    {
      "cell_type": "code",
      "metadata": {
        "id": "kaWMHHyyAHUy",
        "colab": {
          "base_uri": "https://localhost:8080/"
        },
        "outputId": "0363d4ce-9a0e-4eb3-c6bc-59ab065ff87c"
      },
      "execution_count": 7,
      "outputs": [
        {
          "output_type": "stream",
          "name": "stdout",
          "text": [
            "Densidad en g/cm^3: 7.874000000000001 gram / centimeter ** 3.\n",
            "Densidad en g/dm^3: 7874.000000000002 gram / decimeter ** 3.\n",
            "Densidad en kg/L: 7.874000000000001 kilogram / liter.\n"
          ]
        }
      ],
      "source": [
        "from pint import UnitRegistry\n",
        "ureg = UnitRegistry()\n",
        "kg, m, g, cm, dm, L = ureg.kilogram, ureg.meter, ureg.gram, ureg.centimeter, ureg.decimeter, ureg.liter\n",
        "\n",
        "rho_fe = 7874 * kg/(m**3)\n",
        "\n",
        "rho_fe_g_cm3 = rho_fe.to(g/(cm**3))\n",
        "rho_fe_g_dm3 = rho_fe.to(g/(dm**3))\n",
        "rho_fe_kg_L = rho_fe.to(kg/L)\n",
        "\n",
        "print(f'Densidad en g/cm^3: {rho_fe_g_cm3}.')\n",
        "print(f'Densidad en g/dm^3: {rho_fe_g_dm3}.')\n",
        "print(f'Densidad en kg/L: {rho_fe_kg_L}.')"
      ],
      "id": "kaWMHHyyAHUy"
    },
    {
      "cell_type": "code",
      "metadata": {
        "id": "nIrIyjfRAHUy",
        "colab": {
          "base_uri": "https://localhost:8080/"
        },
        "outputId": "e0042224-3beb-488f-8339-39f6fec39693"
      },
      "execution_count": 9,
      "outputs": [
        {
          "output_type": "stream",
          "name": "stdout",
          "text": [
            "✅ E11-a: 7.874 gram / centimeter ** 3 ≈ 7.874 gram / centimeter ** 3\n",
            "✅ E11-b: 7874 gram / decimeter ** 3 ≈ 7874 gram / decimeter ** 3\n",
            "✅ E11-c: 7.874 kilogram / liter ≈ 7.874 kilogram / liter\n"
          ]
        }
      ],
      "source": [
        "import pint\n",
        "from pint import UnitRegistry\n",
        "ureg = UnitRegistry()\n",
        "kg, m, g, cm, dm, L = ureg.kilogram, ureg.meter, ureg.gram, ureg.centimeter, ureg.decimeter, ureg.liter\n",
        "\n",
        "def _to_expected_units(qty, expected):\n",
        "    if isinstance(expected, pint.Quantity):\n",
        "        return qty.to(expected.units)\n",
        "    return qty\n",
        "\n",
        "def check_quantity(name, student_qty, expected_qty, rtol=1e-9, atol=None):\n",
        "    # Compara magnitudes físicas con unidades usando tolerancias relativas/absolutas.\n",
        "    try:\n",
        "        s = _to_expected_units(student_qty, expected_qty)\n",
        "        e = expected_qty\n",
        "        if atol is None:\n",
        "            atol = abs(e.magnitude) * rtol + 1e-12\n",
        "        diff = abs(s.magnitude - e.to(s.units).magnitude)\n",
        "        assert diff <= max(atol, abs(e.magnitude)*rtol), (\n",
        "            f\"❌ {name}: esperado {fmt(e)} pero obtuviste {fmt(student_qty)}; \"\n",
        "            f\"diferencia {diff:g} > tolerancia\")\n",
        "        print(f\"✅ {name}: {fmt(student_qty)} ≈ {fmt(e)}\")\n",
        "    except Exception as ex:\n",
        "        raise AssertionError(str(ex))\n",
        "\n",
        "def fmt(q):\n",
        "    try:\n",
        "        return f\"{q:.6g}\"\n",
        "    except Exception:\n",
        "        return str(q)\n",
        "\n",
        "# Tests\n",
        "check_quantity(\"E11-a\", rho_fe_g_cm3, 7.874 * (g/(cm**3)), rtol=1e-3)\n",
        "check_quantity(\"E11-b\", rho_fe_g_dm3, 7874 * (g/(ureg.decimeter**3)))\n",
        "check_quantity(\"E11-c\", rho_fe_kg_L, 7.874 * (kg/L), rtol=1e-3)"
      ],
      "id": "nIrIyjfRAHUy"
    },
    {
      "cell_type": "markdown",
      "metadata": {
        "id": "7eFtQoTcAHUz"
      },
      "source": [
        "---\n",
        "### Ejercicio 12 — Desafío: La Tierra\n",
        "Teniendo en cuenta que la masa de la Tierra es $M_\\oplus = 5.97\\times 10^{24}\\,\\text{kg}$ y su radio es $R_\\oplus = 6371\\, \\text{km}$, y asumiendo que nuestro planeta es una esfera perfecta, calculá su volumen (en $\\text{m}^3$) y su densidad media (en $\\frac{\\text{kg}}{\\text{m}^3}$).\n",
        "\n",
        "**Ayuda**:\n",
        "- El volumen de una esfera se puede calcular en función de su radio mediante la fórmula: $V = \\tfrac{4}{3}\\pi R^3$.\n",
        "- La densidad media de un cuerpo se puede calcular mediante: $\\rho = \\dfrac{M}{V}$."
      ],
      "id": "7eFtQoTcAHUz"
    },
    {
      "cell_type": "code",
      "metadata": {
        "id": "D6rm7ykJAHUz",
        "colab": {
          "base_uri": "https://localhost:8080/"
        },
        "outputId": "b5fe1df0-4794-4b3e-b2d0-d1da029ff7a4"
      },
      "execution_count": 10,
      "outputs": [
        {
          "output_type": "stream",
          "name": "stdout",
          "text": [
            "Volumen de la Tierra en m^3: 1.0832069168457536e+21 meter ** 3.\n",
            "Densidad media de la Tierra en kg/m^3: 5511.41236928615 kilogram / meter ** 3.\n"
          ]
        }
      ],
      "source": [
        "# Tu solución\n",
        "import math\n",
        "from pint import UnitRegistry\n",
        "ureg = UnitRegistry()\n",
        "kg, km, m = ureg.kilogram, ureg.kilometer, ureg.meter\n",
        "\n",
        "\n",
        "M = 5.97e24 * kg\n",
        "R = 6371 * km\n",
        "V_tierra = (4/3) * math.pi * R**3\n",
        "rho_tierra = M / V_tierra\n",
        "\n",
        "print(f\"Volumen de la Tierra en m^3: {V_tierra.to(m**3)}.\")\n",
        "print(f\"Densidad media de la Tierra en kg/m^3: {rho_tierra.to(kg/(m**3))}.\")"
      ],
      "id": "D6rm7ykJAHUz"
    },
    {
      "cell_type": "code",
      "metadata": {
        "id": "j45y4TkrAHUz",
        "colab": {
          "base_uri": "https://localhost:8080/"
        },
        "outputId": "95774db5-9cd1-447e-f0b4-c1e6acf37ca0"
      },
      "execution_count": 11,
      "outputs": [
        {
          "output_type": "stream",
          "name": "stdout",
          "text": [
            "✅ E12-V: 1.08321e+21 meter ** 3 ≈ 1.08e+21 meter ** 3\n",
            "✅ E12-rho: 5511.41 kilogram / meter ** 3 ≈ 5515 kilogram / meter ** 3\n"
          ]
        }
      ],
      "source": [
        "# Tests (valores aproximados)\n",
        "check_quantity(\"E12-V\", V_tierra.to(m**3), 1.08e21 * (m**3), rtol=5e-3)\n",
        "check_quantity(\"E12-rho\", rho_tierra.to(kg/(m**3)), 5515 * (kg/(m**3)), rtol=5e-3)\n"
      ],
      "id": "j45y4TkrAHUz"
    },
    {
      "cell_type": "markdown",
      "metadata": {
        "id": "EN_4Uf8zAHU0"
      },
      "source": [
        "---\n",
        "### Ejercicio 13 — Actividad creativa:  Escalas en videojuegos\n",
        "1. Definí una función `convertir_unidades(valor, unidad_origen, unidad_destino)` que use **pint**.  \n",
        "2. Elegí un objeto del mundo real (p.ej., **espada** de 1.2 m de largo y 4 cm de ancho) y convertí a píxeles usando una escala\n",
        "   configurable (p.ej., `1 m = 50 px`).  \n",
        "3. Calculá el **área** del sprite en distintas unidades y discutí cómo cambia la percepción de tamaño al cambiar la escala."
      ],
      "id": "EN_4Uf8zAHU0"
    },
    {
      "cell_type": "code",
      "metadata": {
        "id": "xFCY16G6AHU0",
        "colab": {
          "base_uri": "https://localhost:8080/"
        },
        "outputId": "444d2ab8-9b81-4d25-95ae-44fb750161d5"
      },
      "execution_count": 12,
      "outputs": [
        {
          "output_type": "stream",
          "name": "stdout",
          "text": [
            "Largo en píxeles: 35.0 px\n",
            "Ancho en píxeles: 25.0 px\n",
            "Área del sprite: 875.0 px^2\n",
            "Área física en metros cuadrados: 0.35 meter ** 2, en centímetros cuadrados: 3500 centimeter ** 2\n"
          ]
        }
      ],
      "source": [
        "# Tu solución\n",
        "# 1) Función genérica de conversión\n",
        "def convertir_unidades(valor, unidad_origen, unidad_destino):\n",
        "    q = Q_(valor, ureg.parse_units(unidad_origen))\n",
        "    return q.to(ureg.parse_units(unidad_destino))\n",
        "\n",
        "# 2) Parámetros de ejemplo (podés cambiarlos)\n",
        "# Dimensiones para una armadura (ejemplo: peto)\n",
        "long_armadura = 0.7 * m  # 70 cm de largo\n",
        "ancho_armadura = 0.5 * m # 50 cm de ancho\n",
        "escala_px_por_m = 50  # px/m\n",
        "\n",
        "# Conversión a píxeles (solo escala, no es una unidad física de pint)\n",
        "long_px = (long_armadura.to(m).magnitude) * escala_px_por_m\n",
        "ancho_px = (ancho_armadura.to(m).magnitude) * escala_px_por_m\n",
        "area_sprite_px2 = long_px * ancho_px\n",
        "\n",
        "# 3) Área en unidades físicas\n",
        "area_m2 = (long_armadura * ancho_armadura).to(m**2)\n",
        "area_cm2 = (long_armadura * ancho_armadura).to(cm**2)\n",
        "\n",
        "print(f\"Largo en píxeles: {long_px:.1f} px\")\n",
        "print(f\"Ancho en píxeles: {ancho_px:.1f} px\")\n",
        "print(f\"Área del sprite: {area_sprite_px2:.1f} px^2\")\n",
        "print(f\"Área física en metros cuadrados: {fmt(area_m2)}, en centímetros cuadrados: {fmt(area_cm2)}\")"
      ],
      "id": "xFCY16G6AHU0"
    },
    {
      "cell_type": "markdown",
      "metadata": {
        "id": "lSpzZTaeAHU1"
      },
      "source": [
        "---\n",
        "### Ejercicio 14 (Opcional) — Sin librerías: conversor propio\n",
        "Implementá un conversor simple para practicar lógica y tablas de factores."
      ],
      "id": "lSpzZTaeAHU1"
    },
    {
      "cell_type": "code",
      "metadata": {
        "id": "pVKCaG97AHU1",
        "colab": {
          "base_uri": "https://localhost:8080/"
        },
        "outputId": "be9831ea-c00d-45c6-9247-bc8cae0c951d"
      },
      "execution_count": 13,
      "outputs": [
        {
          "output_type": "stream",
          "name": "stdout",
          "text": [
            "36 km/h a m/s con tabla propia\n",
            "10.0\n",
            "\n",
            "10 m a cm:\n",
            "1000.0\n",
            "\n",
            "500 g a kg:\n",
            "0.5\n",
            "\n",
            "120 min a h:\n",
            "2.0\n",
            "\n",
            "1000 kg/m^3 a g/cm^3 (Densidad del agua):\n",
            "1.0\n"
          ]
        }
      ],
      "source": [
        "# Tu solución (opcional)\n",
        "# Diccionarios de factores a la unidad base (SI)\n",
        "factores_long = {\n",
        "    'mm': 1e-3,\n",
        "    'cm': 1e-2,\n",
        "    'dm': 1e-1,\n",
        "    'm': 1.0,\n",
        "    'km': 1e3,\n",
        "}\n",
        "\n",
        "factores_mass = {\n",
        "    'g': 1e-3,\n",
        "    'kg': 1.0,\n",
        "}\n",
        "\n",
        "factores_time = {\n",
        "    's': 1.0,\n",
        "    'min': 60.0,\n",
        "    'h': 3600.0,\n",
        "}\n",
        "\n",
        "# Ejemplo: convertir longitud\n",
        "def convertir_longitud(valor, u_origen, u_destino):\n",
        "    \"\"\"Convierte un valor de longitud entre unidades.\"\"\"\n",
        "    if u_origen not in factores_long or u_destino not in factores_long:\n",
        "        return \"Unidades de longitud no soportadas\"\n",
        "    base_m = valor * factores_long[u_origen]\n",
        "    return base_m / factores_long[u_destino]\n",
        "\n",
        "def convertir_masa(valor, u_origen, u_destino):\n",
        "    \"\"\"Convierte un valor de masa entre unidades.\"\"\"\n",
        "    if u_origen not in factores_mass or u_destino not in factores_mass:\n",
        "        return \"Unidades de masa no soportadas\"\n",
        "    base_kg = valor * factores_mass[u_origen]\n",
        "    return base_kg / factores_mass[u_destino]\n",
        "\n",
        "def convertir_tiempo(valor, u_origen, u_destino):\n",
        "    \"\"\"Convierte un valor de tiempo entre unidades.\"\"\"\n",
        "    if u_origen not in factores_time or u_destino not in factores_time:\n",
        "        return \"Unidades de tiempo no soportadas\"\n",
        "    base_s = valor * factores_time[u_origen]\n",
        "    return base_s / factores_time[u_destino]\n",
        "\n",
        "# Para velocidad y densidad, necesitarías combinar las conversiones de longitud, masa y tiempo\n",
        "# Ejemplo de conversión de velocidad (km/h a m/s)\n",
        "def convertir_velocidad(valor, u_origen, u_destino):\n",
        "    \"\"\"Convierte un valor de velocidad entre unidades comunes (ej: km/h a m/s).\"\"\"\n",
        "    if u_origen == 'km/h' and u_destino == 'm/s':\n",
        "        # Convertir km a m y h a s\n",
        "        valor_m = convertir_longitud(valor, 'km', 'm')\n",
        "        valor_s = convertir_tiempo(1, 'h', 's') # Convertir 1 hora a segundos\n",
        "        return valor_m / valor_s\n",
        "    elif u_origen == 'm/s' and u_destino == 'km/h':\n",
        "        # Convertir m a km y s a h\n",
        "        valor_km = convertir_longitud(valor, 'm', 'km')\n",
        "        valor_h = convertir_tiempo(1, 's', 'h') # Convertir 1 segundo a horas\n",
        "        return valor_km / valor_h\n",
        "    else:\n",
        "        return \"Conversión de velocidad no soportada para estas unidades\"\n",
        "\n",
        "# Para densidad (ej: kg/m^3 a g/cm^3)\n",
        "def convertir_densidad(valor, u_origen, u_destino):\n",
        "    \"\"\"Convierte un valor de densidad entre unidades comunes (ej: kg/m^3 a g/cm^3).\"\"\"\n",
        "    if u_origen == 'kg/m^3' and u_destino == 'g/cm^3':\n",
        "        # Convertir kg a g y m^3 a cm^3 (1 m^3 = 100^3 cm^3 = 1,000,000 cm^3)\n",
        "        valor_g = convertir_masa(valor, 'kg', 'g')\n",
        "        valor_cm3 = convertir_longitud(1, 'm', 'cm')**3 # Convertir 1 m^3 a cm^3\n",
        "        return valor_g / valor_cm3\n",
        "    elif u_origen == 'g/cm^3' and u_destino == 'kg/m^3':\n",
        "        # Convertir g a kg y cm^3 a m^3 (1 cm^3 = 10^-6 m^3)\n",
        "        valor_kg = convertir_masa(valor, 'g', 'kg')\n",
        "        valor_m3 = convertir_longitud(1, 'cm', 'm')**3 # Convertir 1 cm^3 a m^3\n",
        "        return valor_kg / valor_m3\n",
        "    else:\n",
        "         return \"Conversión de densidad no soportada para estas unidades\"\n",
        "\n",
        "\n",
        "# Probá:\n",
        "print(\"36 km/h a m/s con tabla propia\")\n",
        "km_h_a_m_s = convertir_velocidad(36, 'km/h', 'm/s')\n",
        "print(km_h_a_m_s)\n",
        "\n",
        "print(\"\\n10 m a cm:\")\n",
        "print(convertir_longitud(10, 'm', 'cm'))\n",
        "\n",
        "print(\"\\n500 g a kg:\")\n",
        "print(convertir_masa(500, 'g', 'kg'))\n",
        "\n",
        "print(\"\\n120 min a h:\")\n",
        "print(convertir_tiempo(120, 'min', 'h'))\n",
        "\n",
        "print(\"\\n1000 kg/m^3 a g/cm^3 (Densidad del agua):\")\n",
        "print(convertir_densidad(1000, 'kg/m^3', 'g/cm^3'))"
      ],
      "id": "pVKCaG97AHU1"
    },
    {
      "cell_type": "markdown",
      "source": [
        "---\n",
        "## 2) Sistemas de referencia y coordenadas"
      ],
      "metadata": {
        "id": "IMCVLyCfByHM"
      },
      "id": "IMCVLyCfByHM"
    },
    {
      "cell_type": "markdown",
      "source": [
        "**Ejercicio 13.** Un punto $P$ se mueve sobre un camino recto. En la tabla se da la posición $x$ (m) en función del tiempo $t$ (s).  Representá: (i) la **trayectoria en una recta** y (ii) el **gráfico $x(t)$** con `matplotlib`.\n",
        "\n",
        "| t (s) | 0.0 | 0.5 | 1.0 | 1.5 | 2.0 | 2.5 |\n",
        "|:-----:|:---:|:---:|:---:|:---:|:---:|:---:|\n",
        "| x (m) | -2.00 | -1.75 | -1.00 | 0.25 | 2.00 | 4.25 |"
      ],
      "metadata": {
        "id": "4OqQtMOoCYVQ"
      },
      "id": "4OqQtMOoCYVQ"
    },
    {
      "cell_type": "code",
      "metadata": {
        "id": "T9RCkwULBnf8",
        "colab": {
          "base_uri": "https://localhost:8080/",
          "height": 535
        },
        "outputId": "d889c147-4248-4119-bb15-ba8d02c47cb0"
      },
      "execution_count": 15,
      "outputs": [
        {
          "output_type": "display_data",
          "data": {
            "text/plain": [
              "<Figure size 600x150 with 1 Axes>"
            ],
            "image/png": "[encoded data removed]"
          },
          "metadata": {}
        },
        {
          "output_type": "display_data",
          "data": {
            "text/plain": [
              "<Figure size 600x300 with 1 Axes>"
            ],
            "image/png": "[encoded data removed]"
          },
          "metadata": {}
        }
      ],
      "source": [
        "# Escribe tu código aquí\n",
        "\n",
        "import numpy as np\n",
        "import matplotlib.pyplot as plt\n",
        "\n",
        "t = np.array([0.0, 0.5, 1.0, 1.5, 2.0, 2.5])\n",
        "x = np.array([-2.00, -1.75, -1.00, 0.25, 2.00, 4.25])\n",
        "\n",
        "# (i) Trayectoria en la recta real (representar puntos sobre y=0)\n",
        "plt.figure(figsize=(6,1.5))\n",
        "plt.scatter(x, np.zeros_like(x), c='C1', s=60)\n",
        "plt.yticks([])\n",
        "plt.xlabel('x [m]')\n",
        "plt.title('Trayectoria en un tramo de recta')\n",
        "plt.grid(True, axis='x')\n",
        "plt.show()\n",
        "\n",
        "# (ii) Gráfico x(t)\n",
        "plt.figure(figsize=(6,3))\n",
        "plt.plot(t, x, 'o-', label='x(t)')\n",
        "plt.xlabel('t [s]')\n",
        "plt.ylabel('x [m]')\n",
        "plt.title('Posición en función del tiempo')\n",
        "plt.legend()\n",
        "plt.show()"
      ],
      "id": "T9RCkwULBnf8"
    },
    {
      "cell_type": "markdown",
      "metadata": {
        "id": "nobYRWXQBnf9"
      },
      "source": [
        "**Ejercicio 14.** Repetí el análisis para la siguiente tabla.\n",
        "\n",
        "| t (s) | 0 | 1 | 2 | 3 | 4 | 5 | 6 | 7 | 8 | 9 | 10 |\n",
        "|:-----:|:--:|:--:|:--:|:--:|:--:|:--:|:--:|:--:|:--:|:--:|:---:|\n",
        "| x (m) | -2.0 | -1.5 | -1.0 | -0.5 | 0.0 | 0.5 | 1.0 | 1.5 | 2.0 | 2.5 | 3.0 |"
      ],
      "id": "nobYRWXQBnf9"
    },
    {
      "cell_type": "code",
      "metadata": {
        "id": "b8HpEc3ZBnf9",
        "colab": {
          "base_uri": "https://localhost:8080/",
          "height": 535
        },
        "outputId": "b66ce8ca-3e17-45c3-eb3b-674c9fc685d5"
      },
      "execution_count": 16,
      "outputs": [
        {
          "output_type": "display_data",
          "data": {
            "text/plain": [
              "<Figure size 800x150 with 1 Axes>"
            ],
            "image/png": "[encoded data removed]"
          },
          "metadata": {}
        },
        {
          "output_type": "display_data",
          "data": {
            "text/plain": [
              "<Figure size 800x300 with 1 Axes>"
            ],
            "image/png": "[encoded data removed]"
          },
          "metadata": {}
        }
      ],
      "source": [
        "# Escribí tu código acá\n",
        "\n",
        "# Creá los arrays t y x, y realizá los dos gráficos como en el Ejercicio 13.\n",
        "import numpy as np\n",
        "import matplotlib.pyplot as plt\n",
        "\n",
        "t = np.array([0, 1, 2, 3, 4, 5, 6, 7, 8, 9, 10])\n",
        "x = np.array([-2.0, -1.5, -1.0, -0.5, 0.0, 0.5, 1.0, 1.5, 2.0, 2.5, 3.0])\n",
        "\n",
        "# (i) Trayectoria en la recta real (representar puntos sobre y=0)\n",
        "plt.figure(figsize=(8, 1.5))\n",
        "plt.scatter(x, np.zeros_like(x), c='C1', s=60)\n",
        "plt.yticks([])\n",
        "plt.xlabel('x [m]')\n",
        "plt.title('Trayectoria en un tramo de recta (Ejercicio 14)')\n",
        "plt.grid(True, axis='x')\n",
        "plt.show()\n",
        "\n",
        "# (ii) Gráfico x(t)\n",
        "plt.figure(figsize=(8, 3))\n",
        "plt.plot(t, x, 'o-', label='x(t)')\n",
        "plt.xlabel('t [s]')\n",
        "plt.ylabel('x [m]')\n",
        "plt.title('Posición en función del tiempo (Ejercicio 14)')\n",
        "plt.legend()\n",
        "plt.show()"
      ],
      "id": "b8HpEc3ZBnf9"
    },
    {
      "cell_type": "markdown",
      "metadata": {
        "id": "IdpRSAelBnf9"
      },
      "source": [
        "**Ejercicio 15 (Ejemplo resuelto).** Las coordenadas cartesianas de $P$ son $(4, 3)$.  Obtené sus **coordenadas polares** $(r,\\,\\varphi)$ con $\\varphi$ en **grados**."
      ],
      "id": "IdpRSAelBnf9"
    },
    {
      "cell_type": "code",
      "metadata": {
        "id": "Ai-BA0vUBnf9",
        "colab": {
          "base_uri": "https://localhost:8080/",
          "height": 426
        },
        "outputId": "31cd1c47-f618-4ecc-85d1-b344af9a9d92"
      },
      "execution_count": 17,
      "outputs": [
        {
          "output_type": "stream",
          "name": "stdout",
          "text": [
            "r = 5.000\n",
            "phi = 36.87°\n"
          ]
        },
        {
          "output_type": "display_data",
          "data": {
            "text/plain": [
              "<Figure size 400x400 with 1 Axes>"
            ],
            "image/png": "[encoded data removed]"
          },
          "metadata": {}
        }
      ],
      "source": [
        "# Cartesiano -> Polar (con atan2 para cuadrantes correctos)\n",
        "\n",
        "xp, yp = 4, 3\n",
        "r = math.hypot(xp, yp)\n",
        "phi_deg = math.degrees(math.atan2(yp, xp))\n",
        "print(f\"r = {r:.3f}\")\n",
        "print(f\"phi = {phi_deg:.2f}°\")\n",
        "\n",
        "# Extra: representación gráfica\n",
        "plt.figure(figsize=(4,4))\n",
        "plt.axhline(0, color='k', lw=0.5)\n",
        "plt.axvline(0, color='k', lw=0.5)\n",
        "plt.scatter([xp],[yp], c='C3', s=60)\n",
        "plt.plot([0,xp],[0,yp], 'C3--')\n",
        "plt.xlim(-5,5); plt.ylim(-5,5)\n",
        "plt.gca().set_aspect('equal', adjustable='box')\n",
        "plt.title('Punto (4,3) y su radio r')\n",
        "plt.show()"
      ],
      "id": "Ai-BA0vUBnf9"
    },
    {
      "cell_type": "markdown",
      "metadata": {
        "id": "Ma6ANZ7eBnf-"
      },
      "source": [
        "**Ejercicio 16.** Ubicá en un plano cartesiano los puntos $P_1(4,3)$, $P_2(-2,1)$, $P_3(-3,-4)$, $P_4(2,-3)$ y obtené sus polares usando:  $r=\\sqrt{x^2+y^2}$, $\\;\\tan\\,\\theta = y/x$ (cuidá el cuadrante; usá `atan2`)."
      ],
      "id": "Ma6ANZ7eBnf-"
    },
    {
      "cell_type": "code",
      "metadata": {
        "id": "Y0VF-W-RBnf-",
        "colab": {
          "base_uri": "https://localhost:8080/",
          "height": 633
        },
        "outputId": "25a87889-d30f-403e-ed28-a24bb39da2f5"
      },
      "execution_count": 18,
      "outputs": [
        {
          "output_type": "stream",
          "name": "stdout",
          "text": [
            "P1: r = 5.000, phi = 36.87°\n",
            "P2: r = 2.236, phi = 153.43°\n",
            "P3: r = 5.000, phi = -126.87°\n",
            "P4: r = 3.606, phi = -56.31°\n"
          ]
        },
        {
          "output_type": "display_data",
          "data": {
            "text/plain": [
              "<Figure size 600x600 with 1 Axes>"
            ],
            "image/png": "[encoded data removed]"
          },
          "metadata": {}
        }
      ],
      "source": [
        "# Escribí tu código acá\n",
        "\n",
        "puntos = {\n",
        "    'P1': (4, 3),\n",
        "    'P2': (-2, 1),\n",
        "    'P3': (-3, -4),\n",
        "    'P4': (2, -3),\n",
        "}\n",
        "\n",
        "# Calcula (r, theta_deg) y grafica los puntos\n",
        "import math\n",
        "import matplotlib.pyplot as plt\n",
        "import numpy as np\n",
        "\n",
        "plt.figure(figsize=(6, 6))\n",
        "plt.axhline(0, color='k', lw=0.5)\n",
        "plt.axvline(0, color='k', lw=0.5)\n",
        "plt.grid(True, which='both')\n",
        "plt.gca().set_aspect('equal', adjustable='box')\n",
        "\n",
        "for nombre, (x, y) in puntos.items():\n",
        "    r = math.hypot(x, y)\n",
        "    phi_deg = math.degrees(math.atan2(y, x))\n",
        "    print(f\"{nombre}: r = {r:.3f}, phi = {phi_deg:.2f}°\")\n",
        "\n",
        "    plt.scatter([x], [y], label=nombre, s=60)\n",
        "    plt.plot([0, x], [0, y], linestyle='--', linewidth=0.8)\n",
        "    plt.text(x, y, f' {nombre}({x},{y})', fontsize=9, ha='left', va='bottom')\n",
        "\n",
        "\n",
        "plt.title('Puntos en el plano cartesiano y sus radios')\n",
        "plt.xlabel('x')\n",
        "plt.ylabel('y')\n",
        "plt.legend()\n",
        "plt.show()"
      ],
      "id": "Y0VF-W-RBnf-"
    },
    {
      "cell_type": "markdown",
      "metadata": {
        "id": "s3EavYjWBnf-"
      },
      "source": [
        "**Ejercicio 17.** Las coordenadas polares de un punto son $(r,\\,\\varphi)=(2, 225°)$.  Calculá sus **coordenadas cartesianas** $(x,y)$."
      ],
      "id": "s3EavYjWBnf-"
    },
    {
      "cell_type": "code",
      "metadata": {
        "id": "ScgyAMqcBnf-",
        "colab": {
          "base_uri": "https://localhost:8080/"
        },
        "outputId": "9039e3db-975a-4ce2-de4f-49de849230fd"
      },
      "execution_count": 19,
      "outputs": [
        {
          "output_type": "stream",
          "name": "stdout",
          "text": [
            "Las coordenadas cartesianas son: x = -1.414, y = -1.414\n"
          ]
        }
      ],
      "source": [
        "# Escribí tu código acá\n",
        "\n",
        "import numpy as np\n",
        "\n",
        "r = 2\n",
        "phi_deg = 225\n",
        "\n",
        "phi_rad = np.deg2rad(phi_deg)\n",
        "x = r * np.cos(phi_rad)\n",
        "y = r * np.sin(phi_rad)\n",
        "\n",
        "print(f\"Las coordenadas cartesianas son: x = {x:.3f}, y = {y:.3f}\")"
      ],
      "id": "ScgyAMqcBnf-"
    },
    {
      "cell_type": "markdown",
      "metadata": {
        "id": "5Q4SZxrjBngH"
      },
      "source": [
        "**Ejercicio 18.** Convertí a cartesianas las siguientes coordenadas polares:\n",
        "\n",
        "| Punto | $r$ (m) | $\\varphi$ |\n",
        "|:-----:|:-------:|:----------:|\n",
        "| $P_1$ | 1.0     | 30°        |\n",
        "| $P_2$ | $\\sqrt{2}$ | 135°   |\n",
        "| $P_3$ | 4       | 240°       |\n",
        "| $P_4$ | $\\sqrt{3}$ | 300°   |"
      ],
      "id": "5Q4SZxrjBngH"
    },
    {
      "cell_type": "code",
      "metadata": {
        "id": "BxD84vloBngI",
        "colab": {
          "base_uri": "https://localhost:8080/"
        },
        "outputId": "52c2ae2f-0228-41c6-d645-ea83d6b4dd23"
      },
      "execution_count": 20,
      "outputs": [
        {
          "output_type": "stream",
          "name": "stdout",
          "text": [
            "P1: x = 0.866, y = 0.500\n",
            "P2: x = -1.000, y = 1.000\n",
            "P3: x = -2.000, y = -3.464\n",
            "P4: x = 0.866, y = -1.500\n"
          ]
        }
      ],
      "source": [
        "# Escribí tu código acá\n",
        "\n",
        "import numpy as np\n",
        "\n",
        "polares = {'P1': (1.0, 30),    'P2': (np.sqrt(2), 135),    'P3': (4.0, 240),    'P4': (np.sqrt(3), 300)}\n",
        "\n",
        "# Calcula (x,y) para cada punto\n",
        "for nombre, (r, phi_deg) in polares.items():\n",
        "    phi_rad = np.deg2rad(phi_deg)\n",
        "    x = r * np.cos(phi_rad)\n",
        "    y = r * np.sin(phi_rad)\n",
        "    print(f\"{nombre}: x = {x:.3f}, y = {y:.3f}\")"
      ],
      "id": "BxD84vloBngI"
    },
    {
      "cell_type": "markdown",
      "metadata": {
        "id": "uIUMcjWjBngI"
      },
      "source": [
        "---\n",
        "## **Desafíos** (opcional, recomendados)\n",
        "\n",
        "1. **Conversor de unidades universal**\n",
        "Implementá funciones para convertir **longitudes, masas, tiempos, velocidades y densidades** entre unidades comunes.\n",
        "Sugerencia: usá un diccionario con factores respecto de la unidad base (m, kg, s, m/s, kg/m³).\n",
        "\n",
        "2. **Comparativa de densidades**     \n",
        "Hacé un gráfico de **barras** comparando las densidades de varias sustancias en las unidades que elijas (ej., kg/m³), mostrando etiquetas numéricas. Pueden ser todas las que quieras como el agua, aceite, hierro, etc., pero deben ser al menos tres sustancias."
      ],
      "id": "uIUMcjWjBngI"
    },
    {
      "cell_type": "code",
      "metadata": {
        "id": "N-CWKAVDBngI",
        "colab": {
          "base_uri": "https://localhost:8080/"
        },
        "outputId": "12130165-4712-4d97-8cbb-dca2dc1f2571"
      },
      "execution_count": 21,
      "outputs": [
        {
          "output_type": "stream",
          "name": "stdout",
          "text": [
            "Convertir 10 km a m: 10000.0\n",
            "Convertir 500 g a kg: 0.5\n",
            "Convertir 2 h a s: 7200.0\n",
            "Convertir 36 km/h a m/s: 10.0\n",
            "Convertir 1 g/cm^3 a kg/m^3: 1000.0\n"
          ]
        }
      ],
      "source": [
        "# Desafío 1: Conversor de unidades universal (plantilla)\n",
        "# Definí acá tus diccionarios de conversión y funciones que te ayuden\n",
        "# Ejemplo (longitud): la base es el metro\n",
        "length_factor = {\n",
        "    'mm': 1e-3,\n",
        "    'cm': 1e-2,\n",
        "    'dm': 1e-1,\n",
        "    'm': 1.0,\n",
        "    'km': 1e3,\n",
        "}\n",
        "\n",
        "mass_factor = {\n",
        "    'g': 1e-3,\n",
        "    'kg': 1.0,\n",
        "}\n",
        "\n",
        "time_factor = {\n",
        "    's': 1.0,\n",
        "    'min': 60.0,\n",
        "    'h': 3600.0,\n",
        "}\n",
        "\n",
        "speed_factor = {\n",
        "    'm/s': 1.0,\n",
        "    'km/h': 1000/3600,\n",
        "}\n",
        "\n",
        "density_factor = {\n",
        "    'kg/m^3': 1.0,\n",
        "    'g/cm^3': 1000.0,   # 1 g/cm^3 = 1000 kg/m^3\n",
        "    'g/dm^3': 1.0,      # 1 g/dm^3 = 1 kg/m^3? -> OJO, corregí: 1 g/dm^3 = 1e-3 kg/(dm^3) = 1e-3 kg/(0.1 m)^3 = 1e-3 kg / 1e-3 m^3 = 1 kg/m^3\n",
        "}\n",
        "\n",
        "# Nota: completá/ajustá los factores y escribí funciones como convert(valor, unidad_inicial, unidad_final, diccionario_factores)\n",
        "\n",
        "def convert(valor, unidad_inicial, unidad_final, factores):\n",
        "    \"\"\"Convierte un valor entre unidades usando un diccionario de factores.\"\"\"\n",
        "    if unidad_inicial not in factores or unidad_final not in factores:\n",
        "        return \"Unidades no soportadas\"\n",
        "    # Convertir a la unidad base\n",
        "    valor_base = valor * factores[unidad_inicial]\n",
        "    # Convertir de la unidad base a la unidad final\n",
        "    return valor_base / factores[unidad_final]\n",
        "\n",
        "# Ejemplo de uso:\n",
        "print(\"Convertir 10 km a m:\", convert(10, 'km', 'm', length_factor))\n",
        "print(\"Convertir 500 g a kg:\", convert(500, 'g', 'kg', mass_factor))\n",
        "print(\"Convertir 2 h a s:\", convert(2, 'h', 's', time_factor))\n",
        "print(\"Convertir 36 km/h a m/s:\", convert(36, 'km/h', 'm/s', speed_factor))\n",
        "print(\"Convertir 1 g/cm^3 a kg/m^3:\", convert(1, 'g/cm^3', 'kg/m^3', density_factor))"
      ],
      "id": "N-CWKAVDBngI"
    },
    {
      "cell_type": "code",
      "metadata": {
        "id": "kMKq1MckBngJ",
        "colab": {
          "base_uri": "https://localhost:8080/",
          "height": 391
        },
        "outputId": "3262cd97-7130-4225-d823-4c5453292f39"
      },
      "execution_count": 22,
      "outputs": [
        {
          "output_type": "display_data",
          "data": {
            "text/plain": [
              "<Figure size 600x400 with 1 Axes>"
            ],
            "image/png": "[encoded data removed]"
          },
          "metadata": {}
        }
      ],
      "source": [
        "# Desafío 2: Comparativa de densidades (plantilla)\n",
        "\n",
        "# Escribí tu código acá\n",
        "\n",
        "rho_agua = 1000  # kg/m^3\n",
        "rho_hierro = 7874 # kg/m^3\n",
        "rho_aceite = 920 # kg/m^3 (valor aproximado)\n",
        "\n",
        "materiales = ['Agua', 'Aceite', 'Hierro']\n",
        "valores = [rho_agua, rho_aceite, rho_hierro]\n",
        "\n",
        "import matplotlib.pyplot as plt\n",
        "\n",
        "plt.figure(figsize=(6,4))\n",
        "plt.bar(materiales, valores, color=['C0', 'C2', 'C1'])\n",
        "for i,v in enumerate(valores):\n",
        "    plt.text(i, v*1.01, f\"{v}\", ha='center')\n",
        "\n",
        "plt.ylabel('Densidad [kg/m^3]')\n",
        "plt.title('Comparativa de Densidades')\n",
        "plt.show()"
      ],
      "id": "kMKq1MckBngJ"
    },
    {
      "cell_type": "markdown",
      "metadata": {
        "id": "mNsi4g4lBngK"
      },
      "source": [
        "---\n",
        "### Notas\n",
        "\n",
        "- Podés agregar celdas (`+ Código` o `+ Texto`) para justificar tus pasos.\n",
        "- Recordá **probar con casos de prueba** (por ejemplo, convertir ida y vuelta) para validar tus funciones."
      ],
      "id": "mNsi4g4lBngK"
    }
  ]
}